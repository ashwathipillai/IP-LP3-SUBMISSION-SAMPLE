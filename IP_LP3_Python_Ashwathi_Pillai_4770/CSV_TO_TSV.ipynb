{
 "cells": [
  {
   "cell_type": "code",
   "execution_count": null,
   "metadata": {},
   "outputs": [],
   "source": [
    "import csv\n",
    "while True:\n",
    "    input_csv = input(\"Type your CSV file name here \\n\")\n",
    "    csv_file = input_csv.replace(\" \",\"\").replace(\",\",\".\")\n",
    "    output_tsv = csv_file.replace(\".csv\",\".tsv\")\n",
    "    csv.writer(open(output_tsv, 'w+'), delimiter='\\t').writerows(csv.reader(open(input_csv)))"
   ]
  },
  {
   "cell_type": "code",
   "execution_count": null,
   "metadata": {},
   "outputs": [],
   "source": []
  },
  {
   "cell_type": "code",
   "execution_count": null,
   "metadata": {},
   "outputs": [],
   "source": []
  }
 ],
 "metadata": {
  "kernelspec": {
   "display_name": "Python 3",
   "language": "python",
   "name": "python3"
  },
  "language_info": {
   "codemirror_mode": {
    "name": "ipython",
    "version": 3
   },
   "file_extension": ".py",
   "mimetype": "text/x-python",
   "name": "python",
   "nbconvert_exporter": "python",
   "pygments_lexer": "ipython3",
   "version": "3.7.6"
  }
 },
 "nbformat": 4,
 "nbformat_minor": 4
}
