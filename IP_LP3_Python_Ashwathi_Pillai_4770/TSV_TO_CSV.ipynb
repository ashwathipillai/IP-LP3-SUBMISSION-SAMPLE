{
 "cells": [
  {
   "cell_type": "code",
   "execution_count": null,
   "metadata": {},
   "outputs": [],
   "source": []
  },
  {
   "cell_type": "code",
   "execution_count": null,
   "metadata": {},
   "outputs": [
    {
     "name": "stdout",
     "output_type": "stream",
     "text": [
      "Type your TSV file name here \n",
      "EQ010114.tsv\n"
     ]
    }
   ],
   "source": [
    "import pandas as pd \n",
    "\n",
    "while True:\n",
    "    input_tsv = input(\"Type your TSV file name here \\n\")\n",
    "    tsv_file = input_tsv.replace(\" \",\"\").replace(\",\",\".\")\n",
    "    output_csv = tsv_file.replace(\".tsv\",\".csv\")\n",
    "    tab_csv = pd.read_table(tsv_file,sep='\\t')\n",
    "    tab_csv.to_csv(output_csv, index=False,encoding='utf-8-sig')"
   ]
  }
 ],
 "metadata": {
  "kernelspec": {
   "display_name": "Python 3",
   "language": "python",
   "name": "python3"
  },
  "language_info": {
   "codemirror_mode": {
    "name": "ipython",
    "version": 3
   },
   "file_extension": ".py",
   "mimetype": "text/x-python",
   "name": "python",
   "nbconvert_exporter": "python",
   "pygments_lexer": "ipython3",
   "version": "3.7.6"
  }
 },
 "nbformat": 4,
 "nbformat_minor": 4
}
